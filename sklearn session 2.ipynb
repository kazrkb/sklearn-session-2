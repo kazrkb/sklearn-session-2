{
 "cells": [
  {
   "cell_type": "markdown",
   "id": "f8fe004d",
   "metadata": {},
   "source": [
    "## scikit learn"
   ]
  },
  {
   "cell_type": "code",
   "execution_count": 1,
   "id": "4d1cb7c1",
   "metadata": {},
   "outputs": [],
   "source": [
    "import sklearn "
   ]
  },
  {
   "cell_type": "code",
   "execution_count": null,
   "id": "66ee3fc0",
   "metadata": {},
   "outputs": [],
   "source": []
  }
 ],
 "metadata": {
  "kernelspec": {
   "display_name": "Python 3",
   "language": "python",
   "name": "python3"
  },
  "language_info": {
   "codemirror_mode": {
    "name": "ipython",
    "version": 3
   },
   "file_extension": ".py",
   "mimetype": "text/x-python",
   "name": "python",
   "nbconvert_exporter": "python",
   "pygments_lexer": "ipython3",
   "version": "3.11.9"
  }
 },
 "nbformat": 4,
 "nbformat_minor": 5
}
